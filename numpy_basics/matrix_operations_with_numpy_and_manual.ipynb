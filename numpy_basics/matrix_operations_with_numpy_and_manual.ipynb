{
 "cells": [
  {
   "cell_type": "code",
   "execution_count": 1,
   "id": "74f3c9ac-751e-4b39-bf82-6b90adfb9380",
   "metadata": {},
   "outputs": [],
   "source": [
    "import numpy as np"
   ]
  },
  {
   "cell_type": "markdown",
   "id": "2664e66f-2a43-4a3c-8bf6-1df5cbd60306",
   "metadata": {},
   "source": [
    "## חיבור מטריצות"
   ]
  },
  {
   "cell_type": "markdown",
   "id": "ebb68da8-a744-4895-a733-5f6c25a27b38",
   "metadata": {},
   "source": [
    "### אוטומטי:"
   ]
  },
  {
   "cell_type": "code",
   "execution_count": 9,
   "id": "c2e9a7e8-e11d-43cc-a9b1-e4c945462bc6",
   "metadata": {},
   "outputs": [],
   "source": [
    "A = [[4,  1,  7], [2,  8,  3], [5,  9,  0]]\n",
    "\n",
    "B = [[2,  6,  1], [7,  0,  5] ,[3,  4,  9]]"
   ]
  },
  {
   "cell_type": "code",
   "execution_count": 15,
   "id": "ed7aa17b-8dbe-43c5-9d0a-ab9b8c323d5b",
   "metadata": {},
   "outputs": [],
   "source": [
    "A = np.array(A)\n",
    "B = np.array(B)"
   ]
  },
  {
   "cell_type": "code",
   "execution_count": 29,
   "id": "4584e5d7-eac2-4bcb-9a1e-f3d464aa9d54",
   "metadata": {},
   "outputs": [],
   "source": [
    "result = A+B"
   ]
  },
  {
   "cell_type": "code",
   "execution_count": 31,
   "id": "384b588e-e0f2-449c-bc83-33cc13af7945",
   "metadata": {},
   "outputs": [
    {
     "name": "stdout",
     "output_type": "stream",
     "text": [
      "[[ 6  7  8]\n",
      " [ 9  8  8]\n",
      " [ 8 13  9]]\n"
     ]
    }
   ],
   "source": [
    "print(result)"
   ]
  },
  {
   "cell_type": "markdown",
   "id": "3ba5e204-38ad-4b43-b610-705457b58a61",
   "metadata": {},
   "source": [
    "### ידני:"
   ]
  },
  {
   "cell_type": "code",
   "execution_count": null,
   "id": "39f603d2-ae4d-4151-a4dc-1747c2dccb34",
   "metadata": {},
   "outputs": [],
   "source": [
    "A = [4  1  7] \n",
    "    [2  8  3]\n",
    "    [5  9  0]\n",
    "\n",
    "B = [2  6  1]\n",
    "    [7  0  5]\n",
    "    [3  4  9]"
   ]
  },
  {
   "cell_type": "code",
   "execution_count": null,
   "id": "9595a5cf-98cc-48fe-927f-6a06ee48dd12",
   "metadata": {},
   "outputs": [],
   "source": [
    "A + B = \n",
    "            4+2 = 6\n",
    "            1+6 = 7\n",
    "            7+1 = 8\n",
    "\n",
    "            2+7 = 9\n",
    "            8+0 = 8\n",
    "            3+5 = 8\n",
    "\n",
    "            5+3 = 8\n",
    "            9+4 = 13\n",
    "            0+9 = 9\n"
   ]
  },
  {
   "cell_type": "code",
   "execution_count": null,
   "id": "02a62296-a207-4ead-9afa-7b921df2fc6f",
   "metadata": {},
   "outputs": [],
   "source": [
    "A + B = [6  7  8]\n",
    "        [9  8  8]\n",
    "        [8 13  9]"
   ]
  },
  {
   "cell_type": "markdown",
   "id": "ad9d05e2-b41c-4f16-84f2-213fc1d16277",
   "metadata": {},
   "source": [
    "# חיסור מטריצות"
   ]
  },
  {
   "cell_type": "markdown",
   "id": "dc07e1f0-75d1-4eee-ab75-d1793ce01045",
   "metadata": {},
   "source": [
    "### אוטומטי:"
   ]
  },
  {
   "cell_type": "code",
   "execution_count": 25,
   "id": "7a6b0568-1ade-4522-ae8e-305557007adf",
   "metadata": {},
   "outputs": [],
   "source": [
    "C = [[8 , 2], [5,  7], [3,  9]]\n",
    "D = [[1 , 4], [6,  2],[0,  5]]"
   ]
  },
  {
   "cell_type": "code",
   "execution_count": 27,
   "id": "15392a62-9a36-4b35-beb9-adbc48430eaa",
   "metadata": {},
   "outputs": [],
   "source": [
    "C = np.array(C)\n",
    "D = np.array(D)"
   ]
  },
  {
   "cell_type": "code",
   "execution_count": 37,
   "id": "e0813c62-83fd-42f8-928a-980788dfb2cc",
   "metadata": {},
   "outputs": [],
   "source": [
    "result = C-D"
   ]
  },
  {
   "cell_type": "code",
   "execution_count": 39,
   "id": "ba0dfc42-fd8c-4f48-a3d8-f5ed954d7e8f",
   "metadata": {},
   "outputs": [
    {
     "name": "stdout",
     "output_type": "stream",
     "text": [
      "[[ 7 -2]\n",
      " [-1  5]\n",
      " [ 3  4]]\n"
     ]
    }
   ],
   "source": [
    "print(result)"
   ]
  },
  {
   "cell_type": "markdown",
   "id": "30ddb208-0e49-4747-a4ac-31d435385577",
   "metadata": {},
   "source": [
    "### ידני:"
   ]
  },
  {
   "cell_type": "code",
   "execution_count": null,
   "id": "52d0e5cc-3377-4905-9dfc-76bedce22057",
   "metadata": {},
   "outputs": [],
   "source": [
    "C = [8  2]\n",
    "    [5  7]\n",
    "    [3  9]\n",
    "\n",
    "D = [1  4]\n",
    "    [6  2]\n",
    "    [0  5]"
   ]
  },
  {
   "cell_type": "code",
   "execution_count": null,
   "id": "1d5c1c1c-1312-424b-a6e0-43231c97265e",
   "metadata": {},
   "outputs": [],
   "source": [
    "C - D = \n",
    "            8-1 = 7\n",
    "            2-4 = -2\n",
    "\n",
    "            5-6 = -1\n",
    "            7-2 = 5\n",
    "\n",
    "            3-0 = 3\n",
    "            9-5 = 4\n",
    "            "
   ]
  },
  {
   "cell_type": "code",
   "execution_count": null,
   "id": "6f9c7506-1002-44d9-837a-c947baa6947d",
   "metadata": {},
   "outputs": [],
   "source": [
    "C - D =   [7 -2]\n",
    "          [-1 5]\n",
    "          [3  4]"
   ]
  },
  {
   "cell_type": "markdown",
   "id": "f92973a5-d0fb-4e4c-89c7-699b31a464d5",
   "metadata": {},
   "source": [
    "# כפל מטריצות"
   ]
  },
  {
   "cell_type": "markdown",
   "id": "2f9d7e23-8e73-427e-9be7-b235293f01f1",
   "metadata": {},
   "source": [
    "### אוטומטי:"
   ]
  },
  {
   "cell_type": "code",
   "execution_count": 57,
   "id": "30dbff4b-14ff-42f9-b321-479ab2692016",
   "metadata": {},
   "outputs": [],
   "source": [
    "E = [[2,  0,  3,  1], [4,  5,  2,  7], [1,  3, 6,  2]]\n",
    "F = [[3,  1,  2], [0,  4,  6], [7,  2,  5], [1,  8,  3]]"
   ]
  },
  {
   "cell_type": "code",
   "execution_count": 59,
   "id": "e51676c0-2bec-4291-a106-2e91c0fd0303",
   "metadata": {},
   "outputs": [],
   "source": [
    "E = np.array(E)\n",
    "F = np.array(F)"
   ]
  },
  {
   "cell_type": "code",
   "execution_count": 63,
   "id": "1e493340-c922-40ea-9035-cb83faa6d16f",
   "metadata": {},
   "outputs": [],
   "source": [
    "result = E @ F"
   ]
  },
  {
   "cell_type": "code",
   "execution_count": 65,
   "id": "d45bdc41-87bf-449f-8bc3-4630bdcf95c3",
   "metadata": {},
   "outputs": [
    {
     "name": "stdout",
     "output_type": "stream",
     "text": [
      "[[28 16 22]\n",
      " [33 84 69]\n",
      " [47 41 56]]\n"
     ]
    }
   ],
   "source": [
    "print(result)"
   ]
  },
  {
   "cell_type": "markdown",
   "id": "b2d1c99b-0934-4276-b313-aae6cbcb4fb7",
   "metadata": {},
   "source": [
    "### ידני:"
   ]
  },
  {
   "cell_type": "code",
   "execution_count": null,
   "id": "64efb036-ebf1-4f6d-92a0-94e148978ea3",
   "metadata": {},
   "outputs": [],
   "source": [
    "E = [2  0  3  1]\n",
    "    [4  5  2  7]\n",
    "    [1  3  6  2]\n",
    "\n",
    "F = [3  1  2]\n",
    "    [0  4  6]\n",
    "    [7  2  5]\n",
    "    [1  8  3]"
   ]
  },
  {
   "cell_type": "code",
   "execution_count": null,
   "id": "41bcb149-96ee-4f45-a589-4a6464a92275",
   "metadata": {},
   "outputs": [],
   "source": [
    "E * F = \n",
    "            2*3 = 6  + \n",
    "            0*0 = 0  +\n",
    "            3*7 = 21 +\n",
    "            1*1 = 1  =    28\n",
    "\n",
    "            2*1 = 2  +\n",
    "            0*4 = 0  +\n",
    "            3*2 = 6  +\n",
    "            1*8 = 8  =    16\n",
    "\n",
    "            2*2 = 4  +\n",
    "            0*6 = 0  +\n",
    "            3*5 = 15 +\n",
    "            1*3 = 3  =    22\n",
    "\n",
    "\n",
    "\n",
    "            4*3 = 12 +\n",
    "            5*0 = 0  +\n",
    "            2*7 = 14 +\n",
    "            7*1 = 7  =    33\n",
    "\n",
    "            4*1 = 4  +\n",
    "            5*4 = 20 +\n",
    "            2*2 = 4  +\n",
    "            7*8 = 56 =    84\n",
    "\n",
    "            4*2 = 8  +\n",
    "            5*6 = 30 +\n",
    "            2*5 = 10 +\n",
    "            7*3 = 21  =   69\n",
    "\n",
    "\n",
    "\n",
    "            1*3 = 3  +\n",
    "            3*0 = 0  +\n",
    "            6*7 = 42 +\n",
    "            2*1 = 2  =    47\n",
    "\n",
    "            1*1 = 1  +\n",
    "            3*4 = 12 +\n",
    "            6*2 = 12 +\n",
    "            2*8 = 16 =    41\n",
    "\n",
    "            1*2 = 2  +\n",
    "            3*6 = 18 +\n",
    "            6*5 = 30 +\n",
    "            2*3 = 6  =    56\n",
    "            \n",
    "            \n",
    "\n",
    "            "
   ]
  },
  {
   "cell_type": "code",
   "execution_count": null,
   "id": "3e2c4ac8-4c74-4595-afd2-ada32941e2b9",
   "metadata": {},
   "outputs": [],
   "source": [
    "E * F =   [28 16 22]\n",
    "          [33 84 69]\n",
    "          [47 41 56]"
   ]
  },
  {
   "cell_type": "markdown",
   "id": "6b468afb-e201-40ae-a939-edd07a00723d",
   "metadata": {},
   "source": [
    "# טרנספוזיציה של מטריצה"
   ]
  },
  {
   "cell_type": "markdown",
   "id": "2c9c80dd-dacb-44ae-bc4b-471ad71ffb66",
   "metadata": {},
   "source": [
    "### אוטומטי:"
   ]
  },
  {
   "cell_type": "code",
   "execution_count": 82,
   "id": "3b202390-484a-4308-90b0-9320a0f03d7a",
   "metadata": {},
   "outputs": [],
   "source": [
    "G = [[5,  2,  8,  4], [1,  7,  3,  9], [6,  0,  5,  2], [3,  8,  1,  7]]"
   ]
  },
  {
   "cell_type": "code",
   "execution_count": 84,
   "id": "ab0835a5-cf43-4071-913e-19f0802d289a",
   "metadata": {},
   "outputs": [],
   "source": [
    "G = np.array(G)"
   ]
  },
  {
   "cell_type": "code",
   "execution_count": 86,
   "id": "e676836e-6761-4364-ad24-b9c0fe313003",
   "metadata": {},
   "outputs": [
    {
     "name": "stdout",
     "output_type": "stream",
     "text": [
      "[[5 1 6 3]\n",
      " [2 7 0 8]\n",
      " [8 3 5 1]\n",
      " [4 9 2 7]]\n"
     ]
    }
   ],
   "source": [
    "print(G.T)"
   ]
  },
  {
   "cell_type": "markdown",
   "id": "cdd7cb7c-f0f5-4f17-ae9b-ece19376e39d",
   "metadata": {},
   "source": [
    "### ידני:"
   ]
  },
  {
   "cell_type": "code",
   "execution_count": null,
   "id": "6724ec0e-6b75-470f-b1bb-f3537dd66ed3",
   "metadata": {},
   "outputs": [],
   "source": [
    "G = [5  2  8  4]\n",
    "    [1  7  3  9]\n",
    "    [6  0  5  2]\n",
    "    [3  8  1  7]"
   ]
  },
  {
   "cell_type": "code",
   "execution_count": null,
   "id": "a0719156-3aca-4620-b705-323e0c84e46d",
   "metadata": {},
   "outputs": [],
   "source": [
    "G.T =  [5\n",
    "            "
   ]
  }
 ],
 "metadata": {
  "kernelspec": {
   "display_name": "Python 3 (ipykernel)",
   "language": "python",
   "name": "python3"
  },
  "language_info": {
   "codemirror_mode": {
    "name": "ipython",
    "version": 3
   },
   "file_extension": ".py",
   "mimetype": "text/x-python",
   "name": "python",
   "nbconvert_exporter": "python",
   "pygments_lexer": "ipython3",
   "version": "3.12.7"
  }
 },
 "nbformat": 4,
 "nbformat_minor": 5
}
